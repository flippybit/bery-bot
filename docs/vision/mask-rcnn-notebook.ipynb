{
 "cells": [
  {
   "cell_type": "code",
   "execution_count": null,
   "metadata": {},
   "outputs": [],
   "source": [
    "import matplotlib.pyplot as plt\n",
    "import numpy as np\n",
    "\n",
    "#data for plotting\n",
    "t = np.arrange(0.0, 2.0, 0.01)\n",
    "s = 1 + np.sin(2*np.pi * t)\n",
    "\n",
    "fig, ax = plt.subplots()\n",
    "ax.plot(t,s)\n",
    "\n",
    "ax.set(xlabel='time (s)', ylabel='voltage (mV)', title='About as simple as it gets')\n",
    "ax.grid()\n",
    "fig.savefig(\"test.png\")\n",
    "plt.show()"
   ]
  }
 ],
 "metadata": {
  "kernelspec": {
   "display_name": "Python 3.10.6 ('berry-bot')",
   "language": "python",
   "name": "python3"
  },
  "language_info": {
   "name": "python",
   "version": "3.10.6"
  },
  "orig_nbformat": 4,
  "vscode": {
   "interpreter": {
    "hash": "4e6f0671612e7baa8188b1a905fc98205f219c1fc3f4aba0c7a61d0247461098"
   }
  }
 },
 "nbformat": 4,
 "nbformat_minor": 2
}
