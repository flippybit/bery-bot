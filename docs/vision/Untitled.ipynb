{
 "cells": [],
 "metadata": {
  "kernelspec": {
   "display_name": "Python 3.10.6 ('berry-bot')",
   "language": "python",
   "name": "python3"
  },
  "language_info": {
   "name": "python",
   "version": "3.10.6"
  },
  "vscode": {
   "interpreter": {
    "hash": "4e6f0671612e7baa8188b1a905fc98205f219c1fc3f4aba0c7a61d0247461098"
   }
  }
 },
 "nbformat": 4,
 "nbformat_minor": 5
}
