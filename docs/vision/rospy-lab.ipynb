{
 "cells": [
  {
   "cell_type": "code",
   "execution_count": null,
   "id": "fe418183",
   "metadata": {},
   "outputs": [],
   "source": [
    "import jupyros as jr\n",
    "import rospy\n",
    "from std_msgs.msg import String\n",
    "\n",
    "rospy.init_node('jupyter_node')\n",
    "jr.subscribe('/sometopic', String, lambda msg: print(msg))"
   ]
  },
  {
   "cell_type": "code",
   "execution_count": 13,
   "id": "1cdb35d4",
   "metadata": {},
   "outputs": [
    {
     "data": {
      "application/vnd.jupyter.widget-view+json": {
       "model_id": "4c8afed3fa93436ca493a41a25cee6f7",
       "version_major": 2,
       "version_minor": 0
      },
      "text/plain": [
       "Viewer(objects=[GridModel()])"
      ]
     },
     "metadata": {},
     "output_type": "display_data"
    }
   ],
   "source": [
    "from jupyros import ros3d\n",
    "\n",
    "v = ros3d.Viewer()\n",
    "v.objects = [ros3d.GridModel()]\n",
    "v"
   ]
  },
  {
   "cell_type": "code",
   "execution_count": 1,
   "id": "4f8686ba",
   "metadata": {},
   "outputs": [],
   "source": [
    "from jupyros import ros3d\n",
    "from ipywidgets import Layout\n",
    "\n",
    "v = ros3d.Viewer()\n",
    "v.layout = Layout(border=\"3px solid red\", width=\"200px\", height=\"50px\")\n",
    "# The following would have had the same effect:\n",
    "v.layout.border = \"3px solid red\"\n"
   ]
  }
 ],
 "metadata": {
  "kernelspec": {
   "display_name": "Python 3.10.8 ('berry-bot')",
   "language": "python",
   "name": "python3"
  },
  "language_info": {
   "codemirror_mode": {
    "name": "ipython",
    "version": 3
   },
   "file_extension": ".py",
   "mimetype": "text/x-python",
   "name": "python",
   "nbconvert_exporter": "python",
   "pygments_lexer": "ipython3",
   "version": "3.8.15"
  },
  "vscode": {
   "interpreter": {
    "hash": "4e6f0671612e7baa8188b1a905fc98205f219c1fc3f4aba0c7a61d0247461098"
   }
  }
 },
 "nbformat": 4,
 "nbformat_minor": 5
}
